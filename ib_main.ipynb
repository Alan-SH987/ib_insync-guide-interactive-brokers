{
 "metadata": {
  "language_info": {
   "codemirror_mode": {
    "name": "ipython",
    "version": 3
   },
   "file_extension": ".py",
   "mimetype": "text/x-python",
   "name": "python",
   "nbconvert_exporter": "python",
   "pygments_lexer": "ipython3",
   "version": "3.8.6-candidate"
  },
  "orig_nbformat": 2,
  "kernelspec": {
   "name": "python3",
   "display_name": "Python 3",
   "language": "python"
  }
 },
 "nbformat": 4,
 "nbformat_minor": 2,
 "cells": [
  {
   "cell_type": "code",
   "execution_count": 4,
   "metadata": {},
   "outputs": [],
   "source": [
    "from ib_insync import *\n",
    "\n",
    "util.startLoop()  # only use in interactive environments (i.e. Jupyter Notebooks)"
   ]
  },
  {
   "cell_type": "code",
   "execution_count": 2,
   "metadata": {},
   "outputs": [
    {
     "output_type": "execute_result",
     "data": {
      "text/plain": [
       "<IB connected to 127.0.0.1:7497 clientId=1>"
      ]
     },
     "metadata": {},
     "execution_count": 2
    }
   ],
   "source": [
    "ib = IB()\n",
    "ib.connect()"
   ]
  },
  {
   "source": [
    "# Connecting \n",
    "If the above cell does not work to get a connection, pass through the correct parameters \n",
    "as shown in the cell below. If you are connected, don't run the cell below"
   ],
   "cell_type": "markdown",
   "metadata": {}
  },
  {
   "cell_type": "code",
   "execution_count": null,
   "metadata": {},
   "outputs": [],
   "source": [
    "ib = IB()\n",
    "ib.connect(host='127.0.0.1', port=7497, clientId=1)"
   ]
  },
  {
   "source": [
    "# How to retrieve the current price of a stock?\n",
    "\n",
    "Start by creating a contract"
   ],
   "cell_type": "markdown",
   "metadata": {}
  },
  {
   "cell_type": "code",
   "execution_count": 6,
   "metadata": {},
   "outputs": [],
   "source": [
    "nflx_contract = Stock('NFLX', 'SMART', 'USD')"
   ]
  },
  {
   "cell_type": "code",
   "execution_count": 7,
   "metadata": {},
   "outputs": [
    {
     "output_type": "execute_result",
     "data": {
      "text/plain": [
       "[Stock(conId=15124833, symbol='NFLX', exchange='SMART', primaryExchange='NASDAQ', currency='USD', localSymbol='NFLX', tradingClass='NMS')]"
      ]
     },
     "metadata": {},
     "execution_count": 7
    }
   ],
   "source": [
    "ib.qualifyContracts(nflx_contract)"
   ]
  },
  {
   "cell_type": "code",
   "execution_count": 8,
   "metadata": {},
   "outputs": [],
   "source": [
    "data = ib.reqMktData(nflx_contract)"
   ]
  },
  {
   "cell_type": "code",
   "execution_count": 9,
   "metadata": {},
   "outputs": [
    {
     "output_type": "execute_result",
     "data": {
      "text/plain": [
       "500.75"
      ]
     },
     "metadata": {},
     "execution_count": 9
    }
   ],
   "source": [
    "data.marketPrice()"
   ]
  },
  {
   "source": [
    "# How to retrieve market data for currencies, cryptos, and precious metals?"
   ],
   "cell_type": "markdown",
   "metadata": {}
  },
  {
   "cell_type": "code",
   "execution_count": 10,
   "metadata": {},
   "outputs": [
    {
     "output_type": "execute_result",
     "data": {
      "text/plain": [
       "[Forex('EURUSD', conId=12087792, exchange='IDEALPRO', localSymbol='EUR.USD', tradingClass='EUR.USD')]"
      ]
     },
     "metadata": {},
     "execution_count": 10
    }
   ],
   "source": [
    "eur_usd_contract = Forex('EURUSD', 'IDEALPRO')\n",
    "ib.qualifyContracts(eur_usd_contract)"
   ]
  },
  {
   "source": [
    "#\n",
    "To request data follow the same format as used with NFLX."
   ],
   "cell_type": "markdown",
   "metadata": {}
  },
  {
   "cell_type": "code",
   "execution_count": 11,
   "metadata": {},
   "outputs": [],
   "source": [
    "eur_usd_data = ib.reqMktData(eur_usd_contract)"
   ]
  },
  {
   "source": [
    "Crypto example"
   ],
   "cell_type": "markdown",
   "metadata": {}
  },
  {
   "cell_type": "code",
   "execution_count": 15,
   "metadata": {},
   "outputs": [
    {
     "output_type": "execute_result",
     "data": {
      "text/plain": [
       "[Future(conId=395717272, symbol='BRR', lastTradeDateOrContractMonth='20201224', multiplier='5', exchange='CMECRYPTO', currency='USD', localSymbol='BTCZ0', tradingClass='BTC')]"
      ]
     },
     "metadata": {},
     "execution_count": 15
    }
   ],
   "source": [
    "btc_fut_contract = Future('BRR', '20201224', 'CMECRYPTO')\n",
    "ib.qualifyContracts(btc_fut_contract)"
   ]
  },
  {
   "cell_type": "code",
   "execution_count": 14,
   "metadata": {},
   "outputs": [
    {
     "output_type": "execute_result",
     "data": {
      "text/plain": [
       "[ContFuture(conId=395717272, symbol='BRR', lastTradeDateOrContractMonth='20201224', multiplier='5', exchange='CMECRYPTO', currency='USD', localSymbol='BTCZ0', tradingClass='BTC')]"
      ]
     },
     "metadata": {},
     "execution_count": 14
    }
   ],
   "source": [
    "btc_fut_cont_contract = ContFuture('BRR', 'CMECRYPTO')\n",
    "ib.qualifyContracts(btc_fut_cont_contract)"
   ]
  },
  {
   "source": [
    "Precious Metals example"
   ],
   "cell_type": "markdown",
   "metadata": {}
  },
  {
   "cell_type": "code",
   "execution_count": 18,
   "metadata": {},
   "outputs": [
    {
     "output_type": "execute_result",
     "data": {
      "text/plain": [
       "[CFD(conId=457068913, symbol='XAUUSD', exchange='SMART', currency='USD', localSymbol='XAUUSD', tradingClass='XAUUSD')]"
      ]
     },
     "metadata": {},
     "execution_count": 18
    }
   ],
   "source": [
    "gold_cfd_contract = CFD('XAUUSD')\n",
    "ib.qualifyContracts(gold_cfd_contract)"
   ]
  },
  {
   "source": [
    "# How can I retrieve historical data from ib_insync"
   ],
   "cell_type": "markdown",
   "metadata": {}
  },
  {
   "cell_type": "code",
   "execution_count": 25,
   "metadata": {},
   "outputs": [],
   "source": [
    "historical_data_nflx = ib.reqHistoricalData(\n",
    "    nflx_contract, \n",
    "    '', \n",
    "    barSizeSetting='15 mins', \n",
    "    durationStr='2 D', \n",
    "    whatToShow='MIDPOINT', \n",
    "    useRTH=True\n",
    "    )"
   ]
  },
  {
   "cell_type": "code",
   "execution_count": 34,
   "metadata": {},
   "outputs": [
    {
     "output_type": "execute_result",
     "data": {
      "text/plain": [
       "[BarData(date=datetime.datetime(2020, 12, 2, 21, 30), open=501.3, high=502.7, low=495.41, close=496.305, volume=-1, average=-1.0, barCount=-1),\n",
       " BarData(date=datetime.datetime(2020, 12, 2, 21, 45), open=496.305, high=497.64, low=493.38, close=496.255, volume=-1, average=-1.0, barCount=-1),\n",
       " BarData(date=datetime.datetime(2020, 12, 2, 22, 0), open=496.255, high=499.24, low=495.18, close=498.345, volume=-1, average=-1.0, barCount=-1),\n",
       " BarData(date=datetime.datetime(2020, 12, 2, 22, 15), open=498.345, high=499.705, low=497.88, close=498.78, volume=-1, average=-1.0, barCount=-1),\n",
       " BarData(date=datetime.datetime(2020, 12, 2, 22, 30), open=498.78, high=503.51, low=498.62, close=503.39, volume=-1, average=-1.0, barCount=-1),\n",
       " BarData(date=datetime.datetime(2020, 12, 2, 22, 45), open=503.39, high=503.57, low=501.135, close=501.61, volume=-1, average=-1.0, barCount=-1),\n",
       " BarData(date=datetime.datetime(2020, 12, 2, 23, 0), open=501.61, high=503.18, low=501.61, close=502.325, volume=-1, average=-1.0, barCount=-1),\n",
       " BarData(date=datetime.datetime(2020, 12, 2, 23, 15), open=502.325, high=503.675, low=501.95, close=503.665, volume=-1, average=-1.0, barCount=-1),\n",
       " BarData(date=datetime.datetime(2020, 12, 2, 23, 30), open=503.665, high=505.31, low=503.135, close=504.67, volume=-1, average=-1.0, barCount=-1),\n",
       " BarData(date=datetime.datetime(2020, 12, 2, 23, 45), open=504.67, high=505.95, low=504.13, close=505.65, volume=-1, average=-1.0, barCount=-1),\n",
       " BarData(date=datetime.datetime(2020, 12, 3, 0, 0), open=505.65, high=506.795, low=505.165, close=505.485, volume=-1, average=-1.0, barCount=-1),\n",
       " BarData(date=datetime.datetime(2020, 12, 3, 0, 15), open=505.485, high=505.76, low=503.77, close=504.66, volume=-1, average=-1.0, barCount=-1),\n",
       " BarData(date=datetime.datetime(2020, 12, 3, 0, 30), open=504.66, high=505.225, low=503.15, close=503.585, volume=-1, average=-1.0, barCount=-1),\n",
       " BarData(date=datetime.datetime(2020, 12, 3, 0, 45), open=503.585, high=504.175, low=502.795, close=503.805, volume=-1, average=-1.0, barCount=-1),\n",
       " BarData(date=datetime.datetime(2020, 12, 3, 1, 0), open=503.805, high=505.06, low=503.47, close=504.91, volume=-1, average=-1.0, barCount=-1),\n",
       " BarData(date=datetime.datetime(2020, 12, 3, 1, 15), open=504.91, high=505.44, low=503.305, close=503.665, volume=-1, average=-1.0, barCount=-1),\n",
       " BarData(date=datetime.datetime(2020, 12, 3, 1, 30), open=503.665, high=503.935, low=502.535, close=503.065, volume=-1, average=-1.0, barCount=-1),\n",
       " BarData(date=datetime.datetime(2020, 12, 3, 1, 45), open=503.065, high=503.3, low=502.31, close=503.05, volume=-1, average=-1.0, barCount=-1),\n",
       " BarData(date=datetime.datetime(2020, 12, 3, 2, 0), open=503.05, high=503.31, low=501.915, close=502.84, volume=-1, average=-1.0, barCount=-1),\n",
       " BarData(date=datetime.datetime(2020, 12, 3, 2, 15), open=502.84, high=504.19, low=502.83, close=504.125, volume=-1, average=-1.0, barCount=-1),\n",
       " BarData(date=datetime.datetime(2020, 12, 3, 2, 30), open=504.125, high=504.43, low=503.43, close=503.705, volume=-1, average=-1.0, barCount=-1),\n",
       " BarData(date=datetime.datetime(2020, 12, 3, 2, 45), open=503.705, high=503.895, low=502.94, close=503.325, volume=-1, average=-1.0, barCount=-1),\n",
       " BarData(date=datetime.datetime(2020, 12, 3, 3, 0), open=503.325, high=504.245, low=502.895, close=503.825, volume=-1, average=-1.0, barCount=-1),\n",
       " BarData(date=datetime.datetime(2020, 12, 3, 3, 15), open=503.825, high=503.825, low=502.21, close=502.25, volume=-1, average=-1.0, barCount=-1),\n",
       " BarData(date=datetime.datetime(2020, 12, 3, 3, 30), open=502.25, high=502.83, low=501.49, close=502.35, volume=-1, average=-1.0, barCount=-1),\n",
       " BarData(date=datetime.datetime(2020, 12, 3, 3, 45), open=502.35, high=503.71, low=501.74, close=503.265, volume=-1, average=-1.0, barCount=-1),\n",
       " BarData(date=datetime.datetime(2020, 12, 3, 21, 30), open=503.28, high=508.57, low=500.795, close=505.74, volume=-1, average=-1.0, barCount=-1),\n",
       " BarData(date=datetime.datetime(2020, 12, 3, 21, 45), open=505.74, high=506.32, low=501.46, close=501.975, volume=-1, average=-1.0, barCount=-1),\n",
       " BarData(date=datetime.datetime(2020, 12, 3, 22, 0), open=501.975, high=506.815, low=501.91, close=506.455, volume=-1, average=-1.0, barCount=-1),\n",
       " BarData(date=datetime.datetime(2020, 12, 3, 22, 15), open=506.455, high=507.415, low=503.35, close=503.385, volume=-1, average=-1.0, barCount=-1),\n",
       " BarData(date=datetime.datetime(2020, 12, 3, 22, 30), open=503.385, high=503.78, low=500.795, close=501.2, volume=-1, average=-1.0, barCount=-1),\n",
       " BarData(date=datetime.datetime(2020, 12, 3, 22, 45), open=501.2, high=503.08, low=500.6, close=501.24, volume=-1, average=-1.0, barCount=-1),\n",
       " BarData(date=datetime.datetime(2020, 12, 3, 23, 0), open=501.24, high=501.905, low=498.52, close=499.025, volume=-1, average=-1.0, barCount=-1),\n",
       " BarData(date=datetime.datetime(2020, 12, 3, 23, 15), open=499.025, high=501.195, low=499.005, close=500.815, volume=-1, average=-1.0, barCount=-1),\n",
       " BarData(date=datetime.datetime(2020, 12, 3, 23, 30), open=500.815, high=501.42, low=500.115, close=501.165, volume=-1, average=-1.0, barCount=-1),\n",
       " BarData(date=datetime.datetime(2020, 12, 3, 23, 45), open=501.165, high=502.17, low=499.38, close=502.08, volume=-1, average=-1.0, barCount=-1),\n",
       " BarData(date=datetime.datetime(2020, 12, 4, 0, 0), open=502.08, high=502.27, low=500.285, close=500.295, volume=-1, average=-1.0, barCount=-1),\n",
       " BarData(date=datetime.datetime(2020, 12, 4, 0, 15), open=500.295, high=501.085, low=499.42, close=500.605, volume=-1, average=-1.0, barCount=-1),\n",
       " BarData(date=datetime.datetime(2020, 12, 4, 0, 30), open=500.605, high=502.27, low=500.38, close=501.84, volume=-1, average=-1.0, barCount=-1),\n",
       " BarData(date=datetime.datetime(2020, 12, 4, 0, 45), open=501.84, high=502.27, low=501.12, close=501.21, volume=-1, average=-1.0, barCount=-1),\n",
       " BarData(date=datetime.datetime(2020, 12, 4, 1, 0), open=501.21, high=502.13, low=500.81, close=502.09, volume=-1, average=-1.0, barCount=-1),\n",
       " BarData(date=datetime.datetime(2020, 12, 4, 1, 15), open=502.09, high=502.5, low=501.415, close=502.36, volume=-1, average=-1.0, barCount=-1),\n",
       " BarData(date=datetime.datetime(2020, 12, 4, 1, 30), open=502.36, high=502.93, low=500.395, close=500.695, volume=-1, average=-1.0, barCount=-1),\n",
       " BarData(date=datetime.datetime(2020, 12, 4, 1, 45), open=500.695, high=500.695, low=498.9, close=499.605, volume=-1, average=-1.0, barCount=-1),\n",
       " BarData(date=datetime.datetime(2020, 12, 4, 2, 0), open=499.605, high=500.18, low=499.27, close=499.59, volume=-1, average=-1.0, barCount=-1),\n",
       " BarData(date=datetime.datetime(2020, 12, 4, 2, 15), open=499.59, high=499.795, low=497.545, close=498.035, volume=-1, average=-1.0, barCount=-1),\n",
       " BarData(date=datetime.datetime(2020, 12, 4, 2, 30), open=498.035, high=498.71, low=497.6, close=497.91, volume=-1, average=-1.0, barCount=-1),\n",
       " BarData(date=datetime.datetime(2020, 12, 4, 2, 45), open=497.91, high=498.905, low=497.77, close=498.83, volume=-1, average=-1.0, barCount=-1),\n",
       " BarData(date=datetime.datetime(2020, 12, 4, 3, 0), open=498.83, high=498.88, low=496.94, close=498.21, volume=-1, average=-1.0, barCount=-1),\n",
       " BarData(date=datetime.datetime(2020, 12, 4, 3, 15), open=498.21, high=498.83, low=497.74, close=498.265, volume=-1, average=-1.0, barCount=-1),\n",
       " BarData(date=datetime.datetime(2020, 12, 4, 3, 30), open=498.265, high=498.76, low=497.26, close=497.385, volume=-1, average=-1.0, barCount=-1),\n",
       " BarData(date=datetime.datetime(2020, 12, 4, 3, 45), open=497.385, high=498.325, low=496.075, close=497.635, volume=-1, average=-1.0, barCount=-1)]"
      ]
     },
     "metadata": {},
     "execution_count": 34
    }
   ],
   "source": [
    "historical_data_nflx"
   ]
  },
  {
   "cell_type": "code",
   "execution_count": 27,
   "metadata": {},
   "outputs": [
    {
     "output_type": "execute_result",
     "data": {
      "text/plain": [
       "ib_insync.objects.BarDataList"
      ]
     },
     "metadata": {},
     "execution_count": 27
    }
   ],
   "source": [
    "type(historical_data_nflx)"
   ]
  },
  {
   "cell_type": "code",
   "execution_count": 29,
   "metadata": {},
   "outputs": [
    {
     "output_type": "execute_result",
     "data": {
      "text/plain": [
       "BarData(date=datetime.datetime(2020, 12, 4, 3, 45), open=497.385, high=498.325, low=496.075, close=497.635, volume=-1, average=-1.0, barCount=-1)"
      ]
     },
     "metadata": {},
     "execution_count": 29
    }
   ],
   "source": [
    "historical_data_nflx[-1]"
   ]
  },
  {
   "cell_type": "code",
   "execution_count": 30,
   "metadata": {},
   "outputs": [
    {
     "output_type": "execute_result",
     "data": {
      "text/plain": [
       "497.385"
      ]
     },
     "metadata": {},
     "execution_count": 30
    }
   ],
   "source": [
    "historical_data_nflx[-1].open"
   ]
  },
  {
   "cell_type": "code",
   "execution_count": 35,
   "metadata": {},
   "outputs": [
    {
     "output_type": "execute_result",
     "data": {
      "text/plain": [
       "                  date     open     high      low    close  volume  average  \\\n",
       "0  2020-12-02 21:30:00  501.300  502.700  495.410  496.305      -1     -1.0   \n",
       "1  2020-12-02 21:45:00  496.305  497.640  493.380  496.255      -1     -1.0   \n",
       "2  2020-12-02 22:00:00  496.255  499.240  495.180  498.345      -1     -1.0   \n",
       "3  2020-12-02 22:15:00  498.345  499.705  497.880  498.780      -1     -1.0   \n",
       "4  2020-12-02 22:30:00  498.780  503.510  498.620  503.390      -1     -1.0   \n",
       "5  2020-12-02 22:45:00  503.390  503.570  501.135  501.610      -1     -1.0   \n",
       "6  2020-12-02 23:00:00  501.610  503.180  501.610  502.325      -1     -1.0   \n",
       "7  2020-12-02 23:15:00  502.325  503.675  501.950  503.665      -1     -1.0   \n",
       "8  2020-12-02 23:30:00  503.665  505.310  503.135  504.670      -1     -1.0   \n",
       "9  2020-12-02 23:45:00  504.670  505.950  504.130  505.650      -1     -1.0   \n",
       "10 2020-12-03 00:00:00  505.650  506.795  505.165  505.485      -1     -1.0   \n",
       "11 2020-12-03 00:15:00  505.485  505.760  503.770  504.660      -1     -1.0   \n",
       "12 2020-12-03 00:30:00  504.660  505.225  503.150  503.585      -1     -1.0   \n",
       "13 2020-12-03 00:45:00  503.585  504.175  502.795  503.805      -1     -1.0   \n",
       "14 2020-12-03 01:00:00  503.805  505.060  503.470  504.910      -1     -1.0   \n",
       "15 2020-12-03 01:15:00  504.910  505.440  503.305  503.665      -1     -1.0   \n",
       "16 2020-12-03 01:30:00  503.665  503.935  502.535  503.065      -1     -1.0   \n",
       "17 2020-12-03 01:45:00  503.065  503.300  502.310  503.050      -1     -1.0   \n",
       "18 2020-12-03 02:00:00  503.050  503.310  501.915  502.840      -1     -1.0   \n",
       "19 2020-12-03 02:15:00  502.840  504.190  502.830  504.125      -1     -1.0   \n",
       "20 2020-12-03 02:30:00  504.125  504.430  503.430  503.705      -1     -1.0   \n",
       "21 2020-12-03 02:45:00  503.705  503.895  502.940  503.325      -1     -1.0   \n",
       "22 2020-12-03 03:00:00  503.325  504.245  502.895  503.825      -1     -1.0   \n",
       "23 2020-12-03 03:15:00  503.825  503.825  502.210  502.250      -1     -1.0   \n",
       "24 2020-12-03 03:30:00  502.250  502.830  501.490  502.350      -1     -1.0   \n",
       "25 2020-12-03 03:45:00  502.350  503.710  501.740  503.265      -1     -1.0   \n",
       "26 2020-12-03 21:30:00  503.280  508.570  500.795  505.740      -1     -1.0   \n",
       "27 2020-12-03 21:45:00  505.740  506.320  501.460  501.975      -1     -1.0   \n",
       "28 2020-12-03 22:00:00  501.975  506.815  501.910  506.455      -1     -1.0   \n",
       "29 2020-12-03 22:15:00  506.455  507.415  503.350  503.385      -1     -1.0   \n",
       "30 2020-12-03 22:30:00  503.385  503.780  500.795  501.200      -1     -1.0   \n",
       "31 2020-12-03 22:45:00  501.200  503.080  500.600  501.240      -1     -1.0   \n",
       "32 2020-12-03 23:00:00  501.240  501.905  498.520  499.025      -1     -1.0   \n",
       "33 2020-12-03 23:15:00  499.025  501.195  499.005  500.815      -1     -1.0   \n",
       "34 2020-12-03 23:30:00  500.815  501.420  500.115  501.165      -1     -1.0   \n",
       "35 2020-12-03 23:45:00  501.165  502.170  499.380  502.080      -1     -1.0   \n",
       "36 2020-12-04 00:00:00  502.080  502.270  500.285  500.295      -1     -1.0   \n",
       "37 2020-12-04 00:15:00  500.295  501.085  499.420  500.605      -1     -1.0   \n",
       "38 2020-12-04 00:30:00  500.605  502.270  500.380  501.840      -1     -1.0   \n",
       "39 2020-12-04 00:45:00  501.840  502.270  501.120  501.210      -1     -1.0   \n",
       "40 2020-12-04 01:00:00  501.210  502.130  500.810  502.090      -1     -1.0   \n",
       "41 2020-12-04 01:15:00  502.090  502.500  501.415  502.360      -1     -1.0   \n",
       "42 2020-12-04 01:30:00  502.360  502.930  500.395  500.695      -1     -1.0   \n",
       "43 2020-12-04 01:45:00  500.695  500.695  498.900  499.605      -1     -1.0   \n",
       "44 2020-12-04 02:00:00  499.605  500.180  499.270  499.590      -1     -1.0   \n",
       "45 2020-12-04 02:15:00  499.590  499.795  497.545  498.035      -1     -1.0   \n",
       "46 2020-12-04 02:30:00  498.035  498.710  497.600  497.910      -1     -1.0   \n",
       "47 2020-12-04 02:45:00  497.910  498.905  497.770  498.830      -1     -1.0   \n",
       "48 2020-12-04 03:00:00  498.830  498.880  496.940  498.210      -1     -1.0   \n",
       "49 2020-12-04 03:15:00  498.210  498.830  497.740  498.265      -1     -1.0   \n",
       "50 2020-12-04 03:30:00  498.265  498.760  497.260  497.385      -1     -1.0   \n",
       "51 2020-12-04 03:45:00  497.385  498.325  496.075  497.635      -1     -1.0   \n",
       "\n",
       "    barCount  \n",
       "0         -1  \n",
       "1         -1  \n",
       "2         -1  \n",
       "3         -1  \n",
       "4         -1  \n",
       "5         -1  \n",
       "6         -1  \n",
       "7         -1  \n",
       "8         -1  \n",
       "9         -1  \n",
       "10        -1  \n",
       "11        -1  \n",
       "12        -1  \n",
       "13        -1  \n",
       "14        -1  \n",
       "15        -1  \n",
       "16        -1  \n",
       "17        -1  \n",
       "18        -1  \n",
       "19        -1  \n",
       "20        -1  \n",
       "21        -1  \n",
       "22        -1  \n",
       "23        -1  \n",
       "24        -1  \n",
       "25        -1  \n",
       "26        -1  \n",
       "27        -1  \n",
       "28        -1  \n",
       "29        -1  \n",
       "30        -1  \n",
       "31        -1  \n",
       "32        -1  \n",
       "33        -1  \n",
       "34        -1  \n",
       "35        -1  \n",
       "36        -1  \n",
       "37        -1  \n",
       "38        -1  \n",
       "39        -1  \n",
       "40        -1  \n",
       "41        -1  \n",
       "42        -1  \n",
       "43        -1  \n",
       "44        -1  \n",
       "45        -1  \n",
       "46        -1  \n",
       "47        -1  \n",
       "48        -1  \n",
       "49        -1  \n",
       "50        -1  \n",
       "51        -1  "
      ],
      "text/html": "<div>\n<style scoped>\n    .dataframe tbody tr th:only-of-type {\n        vertical-align: middle;\n    }\n\n    .dataframe tbody tr th {\n        vertical-align: top;\n    }\n\n    .dataframe thead th {\n        text-align: right;\n    }\n</style>\n<table border=\"1\" class=\"dataframe\">\n  <thead>\n    <tr style=\"text-align: right;\">\n      <th></th>\n      <th>date</th>\n      <th>open</th>\n      <th>high</th>\n      <th>low</th>\n      <th>close</th>\n      <th>volume</th>\n      <th>average</th>\n      <th>barCount</th>\n    </tr>\n  </thead>\n  <tbody>\n    <tr>\n      <th>0</th>\n      <td>2020-12-02 21:30:00</td>\n      <td>501.300</td>\n      <td>502.700</td>\n      <td>495.410</td>\n      <td>496.305</td>\n      <td>-1</td>\n      <td>-1.0</td>\n      <td>-1</td>\n    </tr>\n    <tr>\n      <th>1</th>\n      <td>2020-12-02 21:45:00</td>\n      <td>496.305</td>\n      <td>497.640</td>\n      <td>493.380</td>\n      <td>496.255</td>\n      <td>-1</td>\n      <td>-1.0</td>\n      <td>-1</td>\n    </tr>\n    <tr>\n      <th>2</th>\n      <td>2020-12-02 22:00:00</td>\n      <td>496.255</td>\n      <td>499.240</td>\n      <td>495.180</td>\n      <td>498.345</td>\n      <td>-1</td>\n      <td>-1.0</td>\n      <td>-1</td>\n    </tr>\n    <tr>\n      <th>3</th>\n      <td>2020-12-02 22:15:00</td>\n      <td>498.345</td>\n      <td>499.705</td>\n      <td>497.880</td>\n      <td>498.780</td>\n      <td>-1</td>\n      <td>-1.0</td>\n      <td>-1</td>\n    </tr>\n    <tr>\n      <th>4</th>\n      <td>2020-12-02 22:30:00</td>\n      <td>498.780</td>\n      <td>503.510</td>\n      <td>498.620</td>\n      <td>503.390</td>\n      <td>-1</td>\n      <td>-1.0</td>\n      <td>-1</td>\n    </tr>\n    <tr>\n      <th>5</th>\n      <td>2020-12-02 22:45:00</td>\n      <td>503.390</td>\n      <td>503.570</td>\n      <td>501.135</td>\n      <td>501.610</td>\n      <td>-1</td>\n      <td>-1.0</td>\n      <td>-1</td>\n    </tr>\n    <tr>\n      <th>6</th>\n      <td>2020-12-02 23:00:00</td>\n      <td>501.610</td>\n      <td>503.180</td>\n      <td>501.610</td>\n      <td>502.325</td>\n      <td>-1</td>\n      <td>-1.0</td>\n      <td>-1</td>\n    </tr>\n    <tr>\n      <th>7</th>\n      <td>2020-12-02 23:15:00</td>\n      <td>502.325</td>\n      <td>503.675</td>\n      <td>501.950</td>\n      <td>503.665</td>\n      <td>-1</td>\n      <td>-1.0</td>\n      <td>-1</td>\n    </tr>\n    <tr>\n      <th>8</th>\n      <td>2020-12-02 23:30:00</td>\n      <td>503.665</td>\n      <td>505.310</td>\n      <td>503.135</td>\n      <td>504.670</td>\n      <td>-1</td>\n      <td>-1.0</td>\n      <td>-1</td>\n    </tr>\n    <tr>\n      <th>9</th>\n      <td>2020-12-02 23:45:00</td>\n      <td>504.670</td>\n      <td>505.950</td>\n      <td>504.130</td>\n      <td>505.650</td>\n      <td>-1</td>\n      <td>-1.0</td>\n      <td>-1</td>\n    </tr>\n    <tr>\n      <th>10</th>\n      <td>2020-12-03 00:00:00</td>\n      <td>505.650</td>\n      <td>506.795</td>\n      <td>505.165</td>\n      <td>505.485</td>\n      <td>-1</td>\n      <td>-1.0</td>\n      <td>-1</td>\n    </tr>\n    <tr>\n      <th>11</th>\n      <td>2020-12-03 00:15:00</td>\n      <td>505.485</td>\n      <td>505.760</td>\n      <td>503.770</td>\n      <td>504.660</td>\n      <td>-1</td>\n      <td>-1.0</td>\n      <td>-1</td>\n    </tr>\n    <tr>\n      <th>12</th>\n      <td>2020-12-03 00:30:00</td>\n      <td>504.660</td>\n      <td>505.225</td>\n      <td>503.150</td>\n      <td>503.585</td>\n      <td>-1</td>\n      <td>-1.0</td>\n      <td>-1</td>\n    </tr>\n    <tr>\n      <th>13</th>\n      <td>2020-12-03 00:45:00</td>\n      <td>503.585</td>\n      <td>504.175</td>\n      <td>502.795</td>\n      <td>503.805</td>\n      <td>-1</td>\n      <td>-1.0</td>\n      <td>-1</td>\n    </tr>\n    <tr>\n      <th>14</th>\n      <td>2020-12-03 01:00:00</td>\n      <td>503.805</td>\n      <td>505.060</td>\n      <td>503.470</td>\n      <td>504.910</td>\n      <td>-1</td>\n      <td>-1.0</td>\n      <td>-1</td>\n    </tr>\n    <tr>\n      <th>15</th>\n      <td>2020-12-03 01:15:00</td>\n      <td>504.910</td>\n      <td>505.440</td>\n      <td>503.305</td>\n      <td>503.665</td>\n      <td>-1</td>\n      <td>-1.0</td>\n      <td>-1</td>\n    </tr>\n    <tr>\n      <th>16</th>\n      <td>2020-12-03 01:30:00</td>\n      <td>503.665</td>\n      <td>503.935</td>\n      <td>502.535</td>\n      <td>503.065</td>\n      <td>-1</td>\n      <td>-1.0</td>\n      <td>-1</td>\n    </tr>\n    <tr>\n      <th>17</th>\n      <td>2020-12-03 01:45:00</td>\n      <td>503.065</td>\n      <td>503.300</td>\n      <td>502.310</td>\n      <td>503.050</td>\n      <td>-1</td>\n      <td>-1.0</td>\n      <td>-1</td>\n    </tr>\n    <tr>\n      <th>18</th>\n      <td>2020-12-03 02:00:00</td>\n      <td>503.050</td>\n      <td>503.310</td>\n      <td>501.915</td>\n      <td>502.840</td>\n      <td>-1</td>\n      <td>-1.0</td>\n      <td>-1</td>\n    </tr>\n    <tr>\n      <th>19</th>\n      <td>2020-12-03 02:15:00</td>\n      <td>502.840</td>\n      <td>504.190</td>\n      <td>502.830</td>\n      <td>504.125</td>\n      <td>-1</td>\n      <td>-1.0</td>\n      <td>-1</td>\n    </tr>\n    <tr>\n      <th>20</th>\n      <td>2020-12-03 02:30:00</td>\n      <td>504.125</td>\n      <td>504.430</td>\n      <td>503.430</td>\n      <td>503.705</td>\n      <td>-1</td>\n      <td>-1.0</td>\n      <td>-1</td>\n    </tr>\n    <tr>\n      <th>21</th>\n      <td>2020-12-03 02:45:00</td>\n      <td>503.705</td>\n      <td>503.895</td>\n      <td>502.940</td>\n      <td>503.325</td>\n      <td>-1</td>\n      <td>-1.0</td>\n      <td>-1</td>\n    </tr>\n    <tr>\n      <th>22</th>\n      <td>2020-12-03 03:00:00</td>\n      <td>503.325</td>\n      <td>504.245</td>\n      <td>502.895</td>\n      <td>503.825</td>\n      <td>-1</td>\n      <td>-1.0</td>\n      <td>-1</td>\n    </tr>\n    <tr>\n      <th>23</th>\n      <td>2020-12-03 03:15:00</td>\n      <td>503.825</td>\n      <td>503.825</td>\n      <td>502.210</td>\n      <td>502.250</td>\n      <td>-1</td>\n      <td>-1.0</td>\n      <td>-1</td>\n    </tr>\n    <tr>\n      <th>24</th>\n      <td>2020-12-03 03:30:00</td>\n      <td>502.250</td>\n      <td>502.830</td>\n      <td>501.490</td>\n      <td>502.350</td>\n      <td>-1</td>\n      <td>-1.0</td>\n      <td>-1</td>\n    </tr>\n    <tr>\n      <th>25</th>\n      <td>2020-12-03 03:45:00</td>\n      <td>502.350</td>\n      <td>503.710</td>\n      <td>501.740</td>\n      <td>503.265</td>\n      <td>-1</td>\n      <td>-1.0</td>\n      <td>-1</td>\n    </tr>\n    <tr>\n      <th>26</th>\n      <td>2020-12-03 21:30:00</td>\n      <td>503.280</td>\n      <td>508.570</td>\n      <td>500.795</td>\n      <td>505.740</td>\n      <td>-1</td>\n      <td>-1.0</td>\n      <td>-1</td>\n    </tr>\n    <tr>\n      <th>27</th>\n      <td>2020-12-03 21:45:00</td>\n      <td>505.740</td>\n      <td>506.320</td>\n      <td>501.460</td>\n      <td>501.975</td>\n      <td>-1</td>\n      <td>-1.0</td>\n      <td>-1</td>\n    </tr>\n    <tr>\n      <th>28</th>\n      <td>2020-12-03 22:00:00</td>\n      <td>501.975</td>\n      <td>506.815</td>\n      <td>501.910</td>\n      <td>506.455</td>\n      <td>-1</td>\n      <td>-1.0</td>\n      <td>-1</td>\n    </tr>\n    <tr>\n      <th>29</th>\n      <td>2020-12-03 22:15:00</td>\n      <td>506.455</td>\n      <td>507.415</td>\n      <td>503.350</td>\n      <td>503.385</td>\n      <td>-1</td>\n      <td>-1.0</td>\n      <td>-1</td>\n    </tr>\n    <tr>\n      <th>30</th>\n      <td>2020-12-03 22:30:00</td>\n      <td>503.385</td>\n      <td>503.780</td>\n      <td>500.795</td>\n      <td>501.200</td>\n      <td>-1</td>\n      <td>-1.0</td>\n      <td>-1</td>\n    </tr>\n    <tr>\n      <th>31</th>\n      <td>2020-12-03 22:45:00</td>\n      <td>501.200</td>\n      <td>503.080</td>\n      <td>500.600</td>\n      <td>501.240</td>\n      <td>-1</td>\n      <td>-1.0</td>\n      <td>-1</td>\n    </tr>\n    <tr>\n      <th>32</th>\n      <td>2020-12-03 23:00:00</td>\n      <td>501.240</td>\n      <td>501.905</td>\n      <td>498.520</td>\n      <td>499.025</td>\n      <td>-1</td>\n      <td>-1.0</td>\n      <td>-1</td>\n    </tr>\n    <tr>\n      <th>33</th>\n      <td>2020-12-03 23:15:00</td>\n      <td>499.025</td>\n      <td>501.195</td>\n      <td>499.005</td>\n      <td>500.815</td>\n      <td>-1</td>\n      <td>-1.0</td>\n      <td>-1</td>\n    </tr>\n    <tr>\n      <th>34</th>\n      <td>2020-12-03 23:30:00</td>\n      <td>500.815</td>\n      <td>501.420</td>\n      <td>500.115</td>\n      <td>501.165</td>\n      <td>-1</td>\n      <td>-1.0</td>\n      <td>-1</td>\n    </tr>\n    <tr>\n      <th>35</th>\n      <td>2020-12-03 23:45:00</td>\n      <td>501.165</td>\n      <td>502.170</td>\n      <td>499.380</td>\n      <td>502.080</td>\n      <td>-1</td>\n      <td>-1.0</td>\n      <td>-1</td>\n    </tr>\n    <tr>\n      <th>36</th>\n      <td>2020-12-04 00:00:00</td>\n      <td>502.080</td>\n      <td>502.270</td>\n      <td>500.285</td>\n      <td>500.295</td>\n      <td>-1</td>\n      <td>-1.0</td>\n      <td>-1</td>\n    </tr>\n    <tr>\n      <th>37</th>\n      <td>2020-12-04 00:15:00</td>\n      <td>500.295</td>\n      <td>501.085</td>\n      <td>499.420</td>\n      <td>500.605</td>\n      <td>-1</td>\n      <td>-1.0</td>\n      <td>-1</td>\n    </tr>\n    <tr>\n      <th>38</th>\n      <td>2020-12-04 00:30:00</td>\n      <td>500.605</td>\n      <td>502.270</td>\n      <td>500.380</td>\n      <td>501.840</td>\n      <td>-1</td>\n      <td>-1.0</td>\n      <td>-1</td>\n    </tr>\n    <tr>\n      <th>39</th>\n      <td>2020-12-04 00:45:00</td>\n      <td>501.840</td>\n      <td>502.270</td>\n      <td>501.120</td>\n      <td>501.210</td>\n      <td>-1</td>\n      <td>-1.0</td>\n      <td>-1</td>\n    </tr>\n    <tr>\n      <th>40</th>\n      <td>2020-12-04 01:00:00</td>\n      <td>501.210</td>\n      <td>502.130</td>\n      <td>500.810</td>\n      <td>502.090</td>\n      <td>-1</td>\n      <td>-1.0</td>\n      <td>-1</td>\n    </tr>\n    <tr>\n      <th>41</th>\n      <td>2020-12-04 01:15:00</td>\n      <td>502.090</td>\n      <td>502.500</td>\n      <td>501.415</td>\n      <td>502.360</td>\n      <td>-1</td>\n      <td>-1.0</td>\n      <td>-1</td>\n    </tr>\n    <tr>\n      <th>42</th>\n      <td>2020-12-04 01:30:00</td>\n      <td>502.360</td>\n      <td>502.930</td>\n      <td>500.395</td>\n      <td>500.695</td>\n      <td>-1</td>\n      <td>-1.0</td>\n      <td>-1</td>\n    </tr>\n    <tr>\n      <th>43</th>\n      <td>2020-12-04 01:45:00</td>\n      <td>500.695</td>\n      <td>500.695</td>\n      <td>498.900</td>\n      <td>499.605</td>\n      <td>-1</td>\n      <td>-1.0</td>\n      <td>-1</td>\n    </tr>\n    <tr>\n      <th>44</th>\n      <td>2020-12-04 02:00:00</td>\n      <td>499.605</td>\n      <td>500.180</td>\n      <td>499.270</td>\n      <td>499.590</td>\n      <td>-1</td>\n      <td>-1.0</td>\n      <td>-1</td>\n    </tr>\n    <tr>\n      <th>45</th>\n      <td>2020-12-04 02:15:00</td>\n      <td>499.590</td>\n      <td>499.795</td>\n      <td>497.545</td>\n      <td>498.035</td>\n      <td>-1</td>\n      <td>-1.0</td>\n      <td>-1</td>\n    </tr>\n    <tr>\n      <th>46</th>\n      <td>2020-12-04 02:30:00</td>\n      <td>498.035</td>\n      <td>498.710</td>\n      <td>497.600</td>\n      <td>497.910</td>\n      <td>-1</td>\n      <td>-1.0</td>\n      <td>-1</td>\n    </tr>\n    <tr>\n      <th>47</th>\n      <td>2020-12-04 02:45:00</td>\n      <td>497.910</td>\n      <td>498.905</td>\n      <td>497.770</td>\n      <td>498.830</td>\n      <td>-1</td>\n      <td>-1.0</td>\n      <td>-1</td>\n    </tr>\n    <tr>\n      <th>48</th>\n      <td>2020-12-04 03:00:00</td>\n      <td>498.830</td>\n      <td>498.880</td>\n      <td>496.940</td>\n      <td>498.210</td>\n      <td>-1</td>\n      <td>-1.0</td>\n      <td>-1</td>\n    </tr>\n    <tr>\n      <th>49</th>\n      <td>2020-12-04 03:15:00</td>\n      <td>498.210</td>\n      <td>498.830</td>\n      <td>497.740</td>\n      <td>498.265</td>\n      <td>-1</td>\n      <td>-1.0</td>\n      <td>-1</td>\n    </tr>\n    <tr>\n      <th>50</th>\n      <td>2020-12-04 03:30:00</td>\n      <td>498.265</td>\n      <td>498.760</td>\n      <td>497.260</td>\n      <td>497.385</td>\n      <td>-1</td>\n      <td>-1.0</td>\n      <td>-1</td>\n    </tr>\n    <tr>\n      <th>51</th>\n      <td>2020-12-04 03:45:00</td>\n      <td>497.385</td>\n      <td>498.325</td>\n      <td>496.075</td>\n      <td>497.635</td>\n      <td>-1</td>\n      <td>-1.0</td>\n      <td>-1</td>\n    </tr>\n  </tbody>\n</table>\n</div>"
     },
     "metadata": {},
     "execution_count": 35
    }
   ],
   "source": [
    "util.df(historical_data_nflx)"
   ]
  },
  {
   "cell_type": "code",
   "execution_count": 36,
   "metadata": {},
   "outputs": [],
   "source": [
    "nflx_df = util.df(historical_data_nflx)"
   ]
  },
  {
   "cell_type": "code",
   "execution_count": 37,
   "metadata": {},
   "outputs": [
    {
     "output_type": "execute_result",
     "data": {
      "text/plain": [
       "0           NaN\n",
       "1           NaN\n",
       "2           NaN\n",
       "3           NaN\n",
       "4           NaN\n",
       "5           NaN\n",
       "6           NaN\n",
       "7           NaN\n",
       "8           NaN\n",
       "9           NaN\n",
       "10          NaN\n",
       "11          NaN\n",
       "12          NaN\n",
       "13          NaN\n",
       "14          NaN\n",
       "15          NaN\n",
       "16          NaN\n",
       "17          NaN\n",
       "18          NaN\n",
       "19    502.50925\n",
       "20    502.87925\n",
       "21    503.23275\n",
       "22    503.50675\n",
       "23    503.68025\n",
       "24    503.62825\n",
       "25    503.71100\n",
       "26    503.88175\n",
       "27    503.79725\n",
       "28    503.88650\n",
       "29    503.77325\n",
       "30    503.55900\n",
       "31    503.38800\n",
       "32    503.16000\n",
       "33    503.01050\n",
       "34    502.82325\n",
       "35    502.74400\n",
       "36    502.60550\n",
       "37    502.48325\n",
       "38    502.43325\n",
       "39    502.28750\n",
       "40    502.20675\n",
       "41    502.15850\n",
       "42    502.00200\n",
       "43    501.86975\n",
       "44    501.73175\n",
       "45    501.47025\n",
       "46    501.07875\n",
       "47    500.92150\n",
       "48    500.50925\n",
       "49    500.25325\n",
       "50    500.06250\n",
       "51    499.88225\n",
       "Name: close, dtype: float64"
      ]
     },
     "metadata": {},
     "execution_count": 37
    }
   ],
   "source": [
    "nflx_df.close.rolling(20).mean()"
   ]
  },
  {
   "cell_type": "code",
   "execution_count": 41,
   "metadata": {},
   "outputs": [],
   "source": [
    "nflx_df['20SMA'] = nflx_df.close.rolling(20).mean()"
   ]
  },
  {
   "cell_type": "code",
   "execution_count": 42,
   "metadata": {},
   "outputs": [
    {
     "output_type": "execute_result",
     "data": {
      "text/plain": [
       "                  date     open     high      low    close  volume  average  \\\n",
       "0  2020-12-02 21:30:00  501.300  502.700  495.410  496.305      -1     -1.0   \n",
       "1  2020-12-02 21:45:00  496.305  497.640  493.380  496.255      -1     -1.0   \n",
       "2  2020-12-02 22:00:00  496.255  499.240  495.180  498.345      -1     -1.0   \n",
       "3  2020-12-02 22:15:00  498.345  499.705  497.880  498.780      -1     -1.0   \n",
       "4  2020-12-02 22:30:00  498.780  503.510  498.620  503.390      -1     -1.0   \n",
       "5  2020-12-02 22:45:00  503.390  503.570  501.135  501.610      -1     -1.0   \n",
       "6  2020-12-02 23:00:00  501.610  503.180  501.610  502.325      -1     -1.0   \n",
       "7  2020-12-02 23:15:00  502.325  503.675  501.950  503.665      -1     -1.0   \n",
       "8  2020-12-02 23:30:00  503.665  505.310  503.135  504.670      -1     -1.0   \n",
       "9  2020-12-02 23:45:00  504.670  505.950  504.130  505.650      -1     -1.0   \n",
       "10 2020-12-03 00:00:00  505.650  506.795  505.165  505.485      -1     -1.0   \n",
       "11 2020-12-03 00:15:00  505.485  505.760  503.770  504.660      -1     -1.0   \n",
       "12 2020-12-03 00:30:00  504.660  505.225  503.150  503.585      -1     -1.0   \n",
       "13 2020-12-03 00:45:00  503.585  504.175  502.795  503.805      -1     -1.0   \n",
       "14 2020-12-03 01:00:00  503.805  505.060  503.470  504.910      -1     -1.0   \n",
       "15 2020-12-03 01:15:00  504.910  505.440  503.305  503.665      -1     -1.0   \n",
       "16 2020-12-03 01:30:00  503.665  503.935  502.535  503.065      -1     -1.0   \n",
       "17 2020-12-03 01:45:00  503.065  503.300  502.310  503.050      -1     -1.0   \n",
       "18 2020-12-03 02:00:00  503.050  503.310  501.915  502.840      -1     -1.0   \n",
       "19 2020-12-03 02:15:00  502.840  504.190  502.830  504.125      -1     -1.0   \n",
       "20 2020-12-03 02:30:00  504.125  504.430  503.430  503.705      -1     -1.0   \n",
       "21 2020-12-03 02:45:00  503.705  503.895  502.940  503.325      -1     -1.0   \n",
       "22 2020-12-03 03:00:00  503.325  504.245  502.895  503.825      -1     -1.0   \n",
       "23 2020-12-03 03:15:00  503.825  503.825  502.210  502.250      -1     -1.0   \n",
       "24 2020-12-03 03:30:00  502.250  502.830  501.490  502.350      -1     -1.0   \n",
       "25 2020-12-03 03:45:00  502.350  503.710  501.740  503.265      -1     -1.0   \n",
       "26 2020-12-03 21:30:00  503.280  508.570  500.795  505.740      -1     -1.0   \n",
       "27 2020-12-03 21:45:00  505.740  506.320  501.460  501.975      -1     -1.0   \n",
       "28 2020-12-03 22:00:00  501.975  506.815  501.910  506.455      -1     -1.0   \n",
       "29 2020-12-03 22:15:00  506.455  507.415  503.350  503.385      -1     -1.0   \n",
       "30 2020-12-03 22:30:00  503.385  503.780  500.795  501.200      -1     -1.0   \n",
       "31 2020-12-03 22:45:00  501.200  503.080  500.600  501.240      -1     -1.0   \n",
       "32 2020-12-03 23:00:00  501.240  501.905  498.520  499.025      -1     -1.0   \n",
       "33 2020-12-03 23:15:00  499.025  501.195  499.005  500.815      -1     -1.0   \n",
       "34 2020-12-03 23:30:00  500.815  501.420  500.115  501.165      -1     -1.0   \n",
       "35 2020-12-03 23:45:00  501.165  502.170  499.380  502.080      -1     -1.0   \n",
       "36 2020-12-04 00:00:00  502.080  502.270  500.285  500.295      -1     -1.0   \n",
       "37 2020-12-04 00:15:00  500.295  501.085  499.420  500.605      -1     -1.0   \n",
       "38 2020-12-04 00:30:00  500.605  502.270  500.380  501.840      -1     -1.0   \n",
       "39 2020-12-04 00:45:00  501.840  502.270  501.120  501.210      -1     -1.0   \n",
       "40 2020-12-04 01:00:00  501.210  502.130  500.810  502.090      -1     -1.0   \n",
       "41 2020-12-04 01:15:00  502.090  502.500  501.415  502.360      -1     -1.0   \n",
       "42 2020-12-04 01:30:00  502.360  502.930  500.395  500.695      -1     -1.0   \n",
       "43 2020-12-04 01:45:00  500.695  500.695  498.900  499.605      -1     -1.0   \n",
       "44 2020-12-04 02:00:00  499.605  500.180  499.270  499.590      -1     -1.0   \n",
       "45 2020-12-04 02:15:00  499.590  499.795  497.545  498.035      -1     -1.0   \n",
       "46 2020-12-04 02:30:00  498.035  498.710  497.600  497.910      -1     -1.0   \n",
       "47 2020-12-04 02:45:00  497.910  498.905  497.770  498.830      -1     -1.0   \n",
       "48 2020-12-04 03:00:00  498.830  498.880  496.940  498.210      -1     -1.0   \n",
       "49 2020-12-04 03:15:00  498.210  498.830  497.740  498.265      -1     -1.0   \n",
       "50 2020-12-04 03:30:00  498.265  498.760  497.260  497.385      -1     -1.0   \n",
       "51 2020-12-04 03:45:00  497.385  498.325  496.075  497.635      -1     -1.0   \n",
       "\n",
       "    barCount      20sma      20SMA  \n",
       "0         -1        NaN        NaN  \n",
       "1         -1        NaN        NaN  \n",
       "2         -1        NaN        NaN  \n",
       "3         -1        NaN        NaN  \n",
       "4         -1        NaN        NaN  \n",
       "5         -1        NaN        NaN  \n",
       "6         -1        NaN        NaN  \n",
       "7         -1        NaN        NaN  \n",
       "8         -1        NaN        NaN  \n",
       "9         -1        NaN        NaN  \n",
       "10        -1        NaN        NaN  \n",
       "11        -1        NaN        NaN  \n",
       "12        -1        NaN        NaN  \n",
       "13        -1        NaN        NaN  \n",
       "14        -1        NaN        NaN  \n",
       "15        -1        NaN        NaN  \n",
       "16        -1        NaN        NaN  \n",
       "17        -1        NaN        NaN  \n",
       "18        -1        NaN        NaN  \n",
       "19        -1  502.50925  502.50925  \n",
       "20        -1  502.87925  502.87925  \n",
       "21        -1  503.23275  503.23275  \n",
       "22        -1  503.50675  503.50675  \n",
       "23        -1  503.68025  503.68025  \n",
       "24        -1  503.62825  503.62825  \n",
       "25        -1  503.71100  503.71100  \n",
       "26        -1  503.88175  503.88175  \n",
       "27        -1  503.79725  503.79725  \n",
       "28        -1  503.88650  503.88650  \n",
       "29        -1  503.77325  503.77325  \n",
       "30        -1  503.55900  503.55900  \n",
       "31        -1  503.38800  503.38800  \n",
       "32        -1  503.16000  503.16000  \n",
       "33        -1  503.01050  503.01050  \n",
       "34        -1  502.82325  502.82325  \n",
       "35        -1  502.74400  502.74400  \n",
       "36        -1  502.60550  502.60550  \n",
       "37        -1  502.48325  502.48325  \n",
       "38        -1  502.43325  502.43325  \n",
       "39        -1  502.28750  502.28750  \n",
       "40        -1  502.20675  502.20675  \n",
       "41        -1  502.15850  502.15850  \n",
       "42        -1  502.00200  502.00200  \n",
       "43        -1  501.86975  501.86975  \n",
       "44        -1  501.73175  501.73175  \n",
       "45        -1  501.47025  501.47025  \n",
       "46        -1  501.07875  501.07875  \n",
       "47        -1  500.92150  500.92150  \n",
       "48        -1  500.50925  500.50925  \n",
       "49        -1  500.25325  500.25325  \n",
       "50        -1  500.06250  500.06250  \n",
       "51        -1  499.88225  499.88225  "
      ],
      "text/html": "<div>\n<style scoped>\n    .dataframe tbody tr th:only-of-type {\n        vertical-align: middle;\n    }\n\n    .dataframe tbody tr th {\n        vertical-align: top;\n    }\n\n    .dataframe thead th {\n        text-align: right;\n    }\n</style>\n<table border=\"1\" class=\"dataframe\">\n  <thead>\n    <tr style=\"text-align: right;\">\n      <th></th>\n      <th>date</th>\n      <th>open</th>\n      <th>high</th>\n      <th>low</th>\n      <th>close</th>\n      <th>volume</th>\n      <th>average</th>\n      <th>barCount</th>\n      <th>20sma</th>\n      <th>20SMA</th>\n    </tr>\n  </thead>\n  <tbody>\n    <tr>\n      <th>0</th>\n      <td>2020-12-02 21:30:00</td>\n      <td>501.300</td>\n      <td>502.700</td>\n      <td>495.410</td>\n      <td>496.305</td>\n      <td>-1</td>\n      <td>-1.0</td>\n      <td>-1</td>\n      <td>NaN</td>\n      <td>NaN</td>\n    </tr>\n    <tr>\n      <th>1</th>\n      <td>2020-12-02 21:45:00</td>\n      <td>496.305</td>\n      <td>497.640</td>\n      <td>493.380</td>\n      <td>496.255</td>\n      <td>-1</td>\n      <td>-1.0</td>\n      <td>-1</td>\n      <td>NaN</td>\n      <td>NaN</td>\n    </tr>\n    <tr>\n      <th>2</th>\n      <td>2020-12-02 22:00:00</td>\n      <td>496.255</td>\n      <td>499.240</td>\n      <td>495.180</td>\n      <td>498.345</td>\n      <td>-1</td>\n      <td>-1.0</td>\n      <td>-1</td>\n      <td>NaN</td>\n      <td>NaN</td>\n    </tr>\n    <tr>\n      <th>3</th>\n      <td>2020-12-02 22:15:00</td>\n      <td>498.345</td>\n      <td>499.705</td>\n      <td>497.880</td>\n      <td>498.780</td>\n      <td>-1</td>\n      <td>-1.0</td>\n      <td>-1</td>\n      <td>NaN</td>\n      <td>NaN</td>\n    </tr>\n    <tr>\n      <th>4</th>\n      <td>2020-12-02 22:30:00</td>\n      <td>498.780</td>\n      <td>503.510</td>\n      <td>498.620</td>\n      <td>503.390</td>\n      <td>-1</td>\n      <td>-1.0</td>\n      <td>-1</td>\n      <td>NaN</td>\n      <td>NaN</td>\n    </tr>\n    <tr>\n      <th>5</th>\n      <td>2020-12-02 22:45:00</td>\n      <td>503.390</td>\n      <td>503.570</td>\n      <td>501.135</td>\n      <td>501.610</td>\n      <td>-1</td>\n      <td>-1.0</td>\n      <td>-1</td>\n      <td>NaN</td>\n      <td>NaN</td>\n    </tr>\n    <tr>\n      <th>6</th>\n      <td>2020-12-02 23:00:00</td>\n      <td>501.610</td>\n      <td>503.180</td>\n      <td>501.610</td>\n      <td>502.325</td>\n      <td>-1</td>\n      <td>-1.0</td>\n      <td>-1</td>\n      <td>NaN</td>\n      <td>NaN</td>\n    </tr>\n    <tr>\n      <th>7</th>\n      <td>2020-12-02 23:15:00</td>\n      <td>502.325</td>\n      <td>503.675</td>\n      <td>501.950</td>\n      <td>503.665</td>\n      <td>-1</td>\n      <td>-1.0</td>\n      <td>-1</td>\n      <td>NaN</td>\n      <td>NaN</td>\n    </tr>\n    <tr>\n      <th>8</th>\n      <td>2020-12-02 23:30:00</td>\n      <td>503.665</td>\n      <td>505.310</td>\n      <td>503.135</td>\n      <td>504.670</td>\n      <td>-1</td>\n      <td>-1.0</td>\n      <td>-1</td>\n      <td>NaN</td>\n      <td>NaN</td>\n    </tr>\n    <tr>\n      <th>9</th>\n      <td>2020-12-02 23:45:00</td>\n      <td>504.670</td>\n      <td>505.950</td>\n      <td>504.130</td>\n      <td>505.650</td>\n      <td>-1</td>\n      <td>-1.0</td>\n      <td>-1</td>\n      <td>NaN</td>\n      <td>NaN</td>\n    </tr>\n    <tr>\n      <th>10</th>\n      <td>2020-12-03 00:00:00</td>\n      <td>505.650</td>\n      <td>506.795</td>\n      <td>505.165</td>\n      <td>505.485</td>\n      <td>-1</td>\n      <td>-1.0</td>\n      <td>-1</td>\n      <td>NaN</td>\n      <td>NaN</td>\n    </tr>\n    <tr>\n      <th>11</th>\n      <td>2020-12-03 00:15:00</td>\n      <td>505.485</td>\n      <td>505.760</td>\n      <td>503.770</td>\n      <td>504.660</td>\n      <td>-1</td>\n      <td>-1.0</td>\n      <td>-1</td>\n      <td>NaN</td>\n      <td>NaN</td>\n    </tr>\n    <tr>\n      <th>12</th>\n      <td>2020-12-03 00:30:00</td>\n      <td>504.660</td>\n      <td>505.225</td>\n      <td>503.150</td>\n      <td>503.585</td>\n      <td>-1</td>\n      <td>-1.0</td>\n      <td>-1</td>\n      <td>NaN</td>\n      <td>NaN</td>\n    </tr>\n    <tr>\n      <th>13</th>\n      <td>2020-12-03 00:45:00</td>\n      <td>503.585</td>\n      <td>504.175</td>\n      <td>502.795</td>\n      <td>503.805</td>\n      <td>-1</td>\n      <td>-1.0</td>\n      <td>-1</td>\n      <td>NaN</td>\n      <td>NaN</td>\n    </tr>\n    <tr>\n      <th>14</th>\n      <td>2020-12-03 01:00:00</td>\n      <td>503.805</td>\n      <td>505.060</td>\n      <td>503.470</td>\n      <td>504.910</td>\n      <td>-1</td>\n      <td>-1.0</td>\n      <td>-1</td>\n      <td>NaN</td>\n      <td>NaN</td>\n    </tr>\n    <tr>\n      <th>15</th>\n      <td>2020-12-03 01:15:00</td>\n      <td>504.910</td>\n      <td>505.440</td>\n      <td>503.305</td>\n      <td>503.665</td>\n      <td>-1</td>\n      <td>-1.0</td>\n      <td>-1</td>\n      <td>NaN</td>\n      <td>NaN</td>\n    </tr>\n    <tr>\n      <th>16</th>\n      <td>2020-12-03 01:30:00</td>\n      <td>503.665</td>\n      <td>503.935</td>\n      <td>502.535</td>\n      <td>503.065</td>\n      <td>-1</td>\n      <td>-1.0</td>\n      <td>-1</td>\n      <td>NaN</td>\n      <td>NaN</td>\n    </tr>\n    <tr>\n      <th>17</th>\n      <td>2020-12-03 01:45:00</td>\n      <td>503.065</td>\n      <td>503.300</td>\n      <td>502.310</td>\n      <td>503.050</td>\n      <td>-1</td>\n      <td>-1.0</td>\n      <td>-1</td>\n      <td>NaN</td>\n      <td>NaN</td>\n    </tr>\n    <tr>\n      <th>18</th>\n      <td>2020-12-03 02:00:00</td>\n      <td>503.050</td>\n      <td>503.310</td>\n      <td>501.915</td>\n      <td>502.840</td>\n      <td>-1</td>\n      <td>-1.0</td>\n      <td>-1</td>\n      <td>NaN</td>\n      <td>NaN</td>\n    </tr>\n    <tr>\n      <th>19</th>\n      <td>2020-12-03 02:15:00</td>\n      <td>502.840</td>\n      <td>504.190</td>\n      <td>502.830</td>\n      <td>504.125</td>\n      <td>-1</td>\n      <td>-1.0</td>\n      <td>-1</td>\n      <td>502.50925</td>\n      <td>502.50925</td>\n    </tr>\n    <tr>\n      <th>20</th>\n      <td>2020-12-03 02:30:00</td>\n      <td>504.125</td>\n      <td>504.430</td>\n      <td>503.430</td>\n      <td>503.705</td>\n      <td>-1</td>\n      <td>-1.0</td>\n      <td>-1</td>\n      <td>502.87925</td>\n      <td>502.87925</td>\n    </tr>\n    <tr>\n      <th>21</th>\n      <td>2020-12-03 02:45:00</td>\n      <td>503.705</td>\n      <td>503.895</td>\n      <td>502.940</td>\n      <td>503.325</td>\n      <td>-1</td>\n      <td>-1.0</td>\n      <td>-1</td>\n      <td>503.23275</td>\n      <td>503.23275</td>\n    </tr>\n    <tr>\n      <th>22</th>\n      <td>2020-12-03 03:00:00</td>\n      <td>503.325</td>\n      <td>504.245</td>\n      <td>502.895</td>\n      <td>503.825</td>\n      <td>-1</td>\n      <td>-1.0</td>\n      <td>-1</td>\n      <td>503.50675</td>\n      <td>503.50675</td>\n    </tr>\n    <tr>\n      <th>23</th>\n      <td>2020-12-03 03:15:00</td>\n      <td>503.825</td>\n      <td>503.825</td>\n      <td>502.210</td>\n      <td>502.250</td>\n      <td>-1</td>\n      <td>-1.0</td>\n      <td>-1</td>\n      <td>503.68025</td>\n      <td>503.68025</td>\n    </tr>\n    <tr>\n      <th>24</th>\n      <td>2020-12-03 03:30:00</td>\n      <td>502.250</td>\n      <td>502.830</td>\n      <td>501.490</td>\n      <td>502.350</td>\n      <td>-1</td>\n      <td>-1.0</td>\n      <td>-1</td>\n      <td>503.62825</td>\n      <td>503.62825</td>\n    </tr>\n    <tr>\n      <th>25</th>\n      <td>2020-12-03 03:45:00</td>\n      <td>502.350</td>\n      <td>503.710</td>\n      <td>501.740</td>\n      <td>503.265</td>\n      <td>-1</td>\n      <td>-1.0</td>\n      <td>-1</td>\n      <td>503.71100</td>\n      <td>503.71100</td>\n    </tr>\n    <tr>\n      <th>26</th>\n      <td>2020-12-03 21:30:00</td>\n      <td>503.280</td>\n      <td>508.570</td>\n      <td>500.795</td>\n      <td>505.740</td>\n      <td>-1</td>\n      <td>-1.0</td>\n      <td>-1</td>\n      <td>503.88175</td>\n      <td>503.88175</td>\n    </tr>\n    <tr>\n      <th>27</th>\n      <td>2020-12-03 21:45:00</td>\n      <td>505.740</td>\n      <td>506.320</td>\n      <td>501.460</td>\n      <td>501.975</td>\n      <td>-1</td>\n      <td>-1.0</td>\n      <td>-1</td>\n      <td>503.79725</td>\n      <td>503.79725</td>\n    </tr>\n    <tr>\n      <th>28</th>\n      <td>2020-12-03 22:00:00</td>\n      <td>501.975</td>\n      <td>506.815</td>\n      <td>501.910</td>\n      <td>506.455</td>\n      <td>-1</td>\n      <td>-1.0</td>\n      <td>-1</td>\n      <td>503.88650</td>\n      <td>503.88650</td>\n    </tr>\n    <tr>\n      <th>29</th>\n      <td>2020-12-03 22:15:00</td>\n      <td>506.455</td>\n      <td>507.415</td>\n      <td>503.350</td>\n      <td>503.385</td>\n      <td>-1</td>\n      <td>-1.0</td>\n      <td>-1</td>\n      <td>503.77325</td>\n      <td>503.77325</td>\n    </tr>\n    <tr>\n      <th>30</th>\n      <td>2020-12-03 22:30:00</td>\n      <td>503.385</td>\n      <td>503.780</td>\n      <td>500.795</td>\n      <td>501.200</td>\n      <td>-1</td>\n      <td>-1.0</td>\n      <td>-1</td>\n      <td>503.55900</td>\n      <td>503.55900</td>\n    </tr>\n    <tr>\n      <th>31</th>\n      <td>2020-12-03 22:45:00</td>\n      <td>501.200</td>\n      <td>503.080</td>\n      <td>500.600</td>\n      <td>501.240</td>\n      <td>-1</td>\n      <td>-1.0</td>\n      <td>-1</td>\n      <td>503.38800</td>\n      <td>503.38800</td>\n    </tr>\n    <tr>\n      <th>32</th>\n      <td>2020-12-03 23:00:00</td>\n      <td>501.240</td>\n      <td>501.905</td>\n      <td>498.520</td>\n      <td>499.025</td>\n      <td>-1</td>\n      <td>-1.0</td>\n      <td>-1</td>\n      <td>503.16000</td>\n      <td>503.16000</td>\n    </tr>\n    <tr>\n      <th>33</th>\n      <td>2020-12-03 23:15:00</td>\n      <td>499.025</td>\n      <td>501.195</td>\n      <td>499.005</td>\n      <td>500.815</td>\n      <td>-1</td>\n      <td>-1.0</td>\n      <td>-1</td>\n      <td>503.01050</td>\n      <td>503.01050</td>\n    </tr>\n    <tr>\n      <th>34</th>\n      <td>2020-12-03 23:30:00</td>\n      <td>500.815</td>\n      <td>501.420</td>\n      <td>500.115</td>\n      <td>501.165</td>\n      <td>-1</td>\n      <td>-1.0</td>\n      <td>-1</td>\n      <td>502.82325</td>\n      <td>502.82325</td>\n    </tr>\n    <tr>\n      <th>35</th>\n      <td>2020-12-03 23:45:00</td>\n      <td>501.165</td>\n      <td>502.170</td>\n      <td>499.380</td>\n      <td>502.080</td>\n      <td>-1</td>\n      <td>-1.0</td>\n      <td>-1</td>\n      <td>502.74400</td>\n      <td>502.74400</td>\n    </tr>\n    <tr>\n      <th>36</th>\n      <td>2020-12-04 00:00:00</td>\n      <td>502.080</td>\n      <td>502.270</td>\n      <td>500.285</td>\n      <td>500.295</td>\n      <td>-1</td>\n      <td>-1.0</td>\n      <td>-1</td>\n      <td>502.60550</td>\n      <td>502.60550</td>\n    </tr>\n    <tr>\n      <th>37</th>\n      <td>2020-12-04 00:15:00</td>\n      <td>500.295</td>\n      <td>501.085</td>\n      <td>499.420</td>\n      <td>500.605</td>\n      <td>-1</td>\n      <td>-1.0</td>\n      <td>-1</td>\n      <td>502.48325</td>\n      <td>502.48325</td>\n    </tr>\n    <tr>\n      <th>38</th>\n      <td>2020-12-04 00:30:00</td>\n      <td>500.605</td>\n      <td>502.270</td>\n      <td>500.380</td>\n      <td>501.840</td>\n      <td>-1</td>\n      <td>-1.0</td>\n      <td>-1</td>\n      <td>502.43325</td>\n      <td>502.43325</td>\n    </tr>\n    <tr>\n      <th>39</th>\n      <td>2020-12-04 00:45:00</td>\n      <td>501.840</td>\n      <td>502.270</td>\n      <td>501.120</td>\n      <td>501.210</td>\n      <td>-1</td>\n      <td>-1.0</td>\n      <td>-1</td>\n      <td>502.28750</td>\n      <td>502.28750</td>\n    </tr>\n    <tr>\n      <th>40</th>\n      <td>2020-12-04 01:00:00</td>\n      <td>501.210</td>\n      <td>502.130</td>\n      <td>500.810</td>\n      <td>502.090</td>\n      <td>-1</td>\n      <td>-1.0</td>\n      <td>-1</td>\n      <td>502.20675</td>\n      <td>502.20675</td>\n    </tr>\n    <tr>\n      <th>41</th>\n      <td>2020-12-04 01:15:00</td>\n      <td>502.090</td>\n      <td>502.500</td>\n      <td>501.415</td>\n      <td>502.360</td>\n      <td>-1</td>\n      <td>-1.0</td>\n      <td>-1</td>\n      <td>502.15850</td>\n      <td>502.15850</td>\n    </tr>\n    <tr>\n      <th>42</th>\n      <td>2020-12-04 01:30:00</td>\n      <td>502.360</td>\n      <td>502.930</td>\n      <td>500.395</td>\n      <td>500.695</td>\n      <td>-1</td>\n      <td>-1.0</td>\n      <td>-1</td>\n      <td>502.00200</td>\n      <td>502.00200</td>\n    </tr>\n    <tr>\n      <th>43</th>\n      <td>2020-12-04 01:45:00</td>\n      <td>500.695</td>\n      <td>500.695</td>\n      <td>498.900</td>\n      <td>499.605</td>\n      <td>-1</td>\n      <td>-1.0</td>\n      <td>-1</td>\n      <td>501.86975</td>\n      <td>501.86975</td>\n    </tr>\n    <tr>\n      <th>44</th>\n      <td>2020-12-04 02:00:00</td>\n      <td>499.605</td>\n      <td>500.180</td>\n      <td>499.270</td>\n      <td>499.590</td>\n      <td>-1</td>\n      <td>-1.0</td>\n      <td>-1</td>\n      <td>501.73175</td>\n      <td>501.73175</td>\n    </tr>\n    <tr>\n      <th>45</th>\n      <td>2020-12-04 02:15:00</td>\n      <td>499.590</td>\n      <td>499.795</td>\n      <td>497.545</td>\n      <td>498.035</td>\n      <td>-1</td>\n      <td>-1.0</td>\n      <td>-1</td>\n      <td>501.47025</td>\n      <td>501.47025</td>\n    </tr>\n    <tr>\n      <th>46</th>\n      <td>2020-12-04 02:30:00</td>\n      <td>498.035</td>\n      <td>498.710</td>\n      <td>497.600</td>\n      <td>497.910</td>\n      <td>-1</td>\n      <td>-1.0</td>\n      <td>-1</td>\n      <td>501.07875</td>\n      <td>501.07875</td>\n    </tr>\n    <tr>\n      <th>47</th>\n      <td>2020-12-04 02:45:00</td>\n      <td>497.910</td>\n      <td>498.905</td>\n      <td>497.770</td>\n      <td>498.830</td>\n      <td>-1</td>\n      <td>-1.0</td>\n      <td>-1</td>\n      <td>500.92150</td>\n      <td>500.92150</td>\n    </tr>\n    <tr>\n      <th>48</th>\n      <td>2020-12-04 03:00:00</td>\n      <td>498.830</td>\n      <td>498.880</td>\n      <td>496.940</td>\n      <td>498.210</td>\n      <td>-1</td>\n      <td>-1.0</td>\n      <td>-1</td>\n      <td>500.50925</td>\n      <td>500.50925</td>\n    </tr>\n    <tr>\n      <th>49</th>\n      <td>2020-12-04 03:15:00</td>\n      <td>498.210</td>\n      <td>498.830</td>\n      <td>497.740</td>\n      <td>498.265</td>\n      <td>-1</td>\n      <td>-1.0</td>\n      <td>-1</td>\n      <td>500.25325</td>\n      <td>500.25325</td>\n    </tr>\n    <tr>\n      <th>50</th>\n      <td>2020-12-04 03:30:00</td>\n      <td>498.265</td>\n      <td>498.760</td>\n      <td>497.260</td>\n      <td>497.385</td>\n      <td>-1</td>\n      <td>-1.0</td>\n      <td>-1</td>\n      <td>500.06250</td>\n      <td>500.06250</td>\n    </tr>\n    <tr>\n      <th>51</th>\n      <td>2020-12-04 03:45:00</td>\n      <td>497.385</td>\n      <td>498.325</td>\n      <td>496.075</td>\n      <td>497.635</td>\n      <td>-1</td>\n      <td>-1.0</td>\n      <td>-1</td>\n      <td>499.88225</td>\n      <td>499.88225</td>\n    </tr>\n  </tbody>\n</table>\n</div>"
     },
     "metadata": {},
     "execution_count": 42
    }
   ],
   "source": [
    "nflx_df"
   ]
  },
  {
   "cell_type": "code",
   "execution_count": 45,
   "metadata": {},
   "outputs": [
    {
     "output_type": "execute_result",
     "data": {
      "text/plain": [
       "499.8822499999998"
      ]
     },
     "metadata": {},
     "execution_count": 45
    }
   ],
   "source": [
    "nflx_df.close.rolling(20).mean().iloc[-1]"
   ]
  },
  {
   "cell_type": "code",
   "execution_count": 47,
   "metadata": {},
   "outputs": [
    {
     "output_type": "execute_result",
     "data": {
      "text/plain": [
       "          mid         top         bot\n",
       "0         NaN         NaN         NaN\n",
       "1         NaN         NaN         NaN\n",
       "2         NaN         NaN         NaN\n",
       "3         NaN         NaN         NaN\n",
       "4         NaN         NaN         NaN\n",
       "5         NaN         NaN         NaN\n",
       "6         NaN         NaN         NaN\n",
       "7         NaN         NaN         NaN\n",
       "8         NaN         NaN         NaN\n",
       "9         NaN         NaN         NaN\n",
       "10        NaN         NaN         NaN\n",
       "11        NaN         NaN         NaN\n",
       "12        NaN         NaN         NaN\n",
       "13        NaN         NaN         NaN\n",
       "14        NaN         NaN         NaN\n",
       "15        NaN         NaN         NaN\n",
       "16        NaN         NaN         NaN\n",
       "17        NaN         NaN         NaN\n",
       "18        NaN         NaN         NaN\n",
       "19  502.50925  508.042451  496.976049\n",
       "20  502.87925  507.639096  498.119404\n",
       "21  503.23275  506.896066  499.569434\n",
       "22  503.50675  506.407045  500.606455\n",
       "23  503.68025  505.714643  501.645857\n",
       "24  503.62825  505.741305  501.515195\n",
       "25  503.71100  505.621324  501.800676\n",
       "26  503.88175  505.874708  501.888792\n",
       "27  503.79725  505.956200  501.638300\n",
       "28  503.88650  506.313348  501.459652\n",
       "29  503.77325  506.068158  501.478342\n",
       "30  503.55900  505.971736  501.146264\n",
       "31  503.38800  505.944843  500.831157\n",
       "32  503.16000  506.342593  499.977407\n",
       "33  503.01050  506.335571  499.685429\n",
       "34  502.82325  506.121038  499.525462\n",
       "35  502.74400  506.033233  499.454767\n",
       "36  502.60550  506.058215  499.152785\n",
       "37  502.48325  506.036044  498.930456\n",
       "38  502.43325  505.992694  498.873806\n",
       "39  502.28750  505.796280  498.778720\n",
       "40  502.20675  505.655140  498.758360\n",
       "41  502.15850  505.569758  498.747242\n",
       "42  502.00200  505.380111  498.623889\n",
       "43  501.86975  505.402241  498.337259\n",
       "44  501.73175  505.391756  498.071744\n",
       "45  501.47025  505.392639  497.547861\n",
       "46  501.07875  504.774825  497.382675\n",
       "47  500.92150  504.717917  497.125083\n",
       "48  500.50925  503.522471  497.496029\n",
       "49  500.25325  503.111694  497.394806\n",
       "50  500.06250  503.143290  496.981710\n",
       "51  499.88225  503.085772  496.678728"
      ],
      "text/html": "<div>\n<style scoped>\n    .dataframe tbody tr th:only-of-type {\n        vertical-align: middle;\n    }\n\n    .dataframe tbody tr th {\n        vertical-align: top;\n    }\n\n    .dataframe thead th {\n        text-align: right;\n    }\n</style>\n<table border=\"1\" class=\"dataframe\">\n  <thead>\n    <tr style=\"text-align: right;\">\n      <th></th>\n      <th>mid</th>\n      <th>top</th>\n      <th>bot</th>\n    </tr>\n  </thead>\n  <tbody>\n    <tr>\n      <th>0</th>\n      <td>NaN</td>\n      <td>NaN</td>\n      <td>NaN</td>\n    </tr>\n    <tr>\n      <th>1</th>\n      <td>NaN</td>\n      <td>NaN</td>\n      <td>NaN</td>\n    </tr>\n    <tr>\n      <th>2</th>\n      <td>NaN</td>\n      <td>NaN</td>\n      <td>NaN</td>\n    </tr>\n    <tr>\n      <th>3</th>\n      <td>NaN</td>\n      <td>NaN</td>\n      <td>NaN</td>\n    </tr>\n    <tr>\n      <th>4</th>\n      <td>NaN</td>\n      <td>NaN</td>\n      <td>NaN</td>\n    </tr>\n    <tr>\n      <th>5</th>\n      <td>NaN</td>\n      <td>NaN</td>\n      <td>NaN</td>\n    </tr>\n    <tr>\n      <th>6</th>\n      <td>NaN</td>\n      <td>NaN</td>\n      <td>NaN</td>\n    </tr>\n    <tr>\n      <th>7</th>\n      <td>NaN</td>\n      <td>NaN</td>\n      <td>NaN</td>\n    </tr>\n    <tr>\n      <th>8</th>\n      <td>NaN</td>\n      <td>NaN</td>\n      <td>NaN</td>\n    </tr>\n    <tr>\n      <th>9</th>\n      <td>NaN</td>\n      <td>NaN</td>\n      <td>NaN</td>\n    </tr>\n    <tr>\n      <th>10</th>\n      <td>NaN</td>\n      <td>NaN</td>\n      <td>NaN</td>\n    </tr>\n    <tr>\n      <th>11</th>\n      <td>NaN</td>\n      <td>NaN</td>\n      <td>NaN</td>\n    </tr>\n    <tr>\n      <th>12</th>\n      <td>NaN</td>\n      <td>NaN</td>\n      <td>NaN</td>\n    </tr>\n    <tr>\n      <th>13</th>\n      <td>NaN</td>\n      <td>NaN</td>\n      <td>NaN</td>\n    </tr>\n    <tr>\n      <th>14</th>\n      <td>NaN</td>\n      <td>NaN</td>\n      <td>NaN</td>\n    </tr>\n    <tr>\n      <th>15</th>\n      <td>NaN</td>\n      <td>NaN</td>\n      <td>NaN</td>\n    </tr>\n    <tr>\n      <th>16</th>\n      <td>NaN</td>\n      <td>NaN</td>\n      <td>NaN</td>\n    </tr>\n    <tr>\n      <th>17</th>\n      <td>NaN</td>\n      <td>NaN</td>\n      <td>NaN</td>\n    </tr>\n    <tr>\n      <th>18</th>\n      <td>NaN</td>\n      <td>NaN</td>\n      <td>NaN</td>\n    </tr>\n    <tr>\n      <th>19</th>\n      <td>502.50925</td>\n      <td>508.042451</td>\n      <td>496.976049</td>\n    </tr>\n    <tr>\n      <th>20</th>\n      <td>502.87925</td>\n      <td>507.639096</td>\n      <td>498.119404</td>\n    </tr>\n    <tr>\n      <th>21</th>\n      <td>503.23275</td>\n      <td>506.896066</td>\n      <td>499.569434</td>\n    </tr>\n    <tr>\n      <th>22</th>\n      <td>503.50675</td>\n      <td>506.407045</td>\n      <td>500.606455</td>\n    </tr>\n    <tr>\n      <th>23</th>\n      <td>503.68025</td>\n      <td>505.714643</td>\n      <td>501.645857</td>\n    </tr>\n    <tr>\n      <th>24</th>\n      <td>503.62825</td>\n      <td>505.741305</td>\n      <td>501.515195</td>\n    </tr>\n    <tr>\n      <th>25</th>\n      <td>503.71100</td>\n      <td>505.621324</td>\n      <td>501.800676</td>\n    </tr>\n    <tr>\n      <th>26</th>\n      <td>503.88175</td>\n      <td>505.874708</td>\n      <td>501.888792</td>\n    </tr>\n    <tr>\n      <th>27</th>\n      <td>503.79725</td>\n      <td>505.956200</td>\n      <td>501.638300</td>\n    </tr>\n    <tr>\n      <th>28</th>\n      <td>503.88650</td>\n      <td>506.313348</td>\n      <td>501.459652</td>\n    </tr>\n    <tr>\n      <th>29</th>\n      <td>503.77325</td>\n      <td>506.068158</td>\n      <td>501.478342</td>\n    </tr>\n    <tr>\n      <th>30</th>\n      <td>503.55900</td>\n      <td>505.971736</td>\n      <td>501.146264</td>\n    </tr>\n    <tr>\n      <th>31</th>\n      <td>503.38800</td>\n      <td>505.944843</td>\n      <td>500.831157</td>\n    </tr>\n    <tr>\n      <th>32</th>\n      <td>503.16000</td>\n      <td>506.342593</td>\n      <td>499.977407</td>\n    </tr>\n    <tr>\n      <th>33</th>\n      <td>503.01050</td>\n      <td>506.335571</td>\n      <td>499.685429</td>\n    </tr>\n    <tr>\n      <th>34</th>\n      <td>502.82325</td>\n      <td>506.121038</td>\n      <td>499.525462</td>\n    </tr>\n    <tr>\n      <th>35</th>\n      <td>502.74400</td>\n      <td>506.033233</td>\n      <td>499.454767</td>\n    </tr>\n    <tr>\n      <th>36</th>\n      <td>502.60550</td>\n      <td>506.058215</td>\n      <td>499.152785</td>\n    </tr>\n    <tr>\n      <th>37</th>\n      <td>502.48325</td>\n      <td>506.036044</td>\n      <td>498.930456</td>\n    </tr>\n    <tr>\n      <th>38</th>\n      <td>502.43325</td>\n      <td>505.992694</td>\n      <td>498.873806</td>\n    </tr>\n    <tr>\n      <th>39</th>\n      <td>502.28750</td>\n      <td>505.796280</td>\n      <td>498.778720</td>\n    </tr>\n    <tr>\n      <th>40</th>\n      <td>502.20675</td>\n      <td>505.655140</td>\n      <td>498.758360</td>\n    </tr>\n    <tr>\n      <th>41</th>\n      <td>502.15850</td>\n      <td>505.569758</td>\n      <td>498.747242</td>\n    </tr>\n    <tr>\n      <th>42</th>\n      <td>502.00200</td>\n      <td>505.380111</td>\n      <td>498.623889</td>\n    </tr>\n    <tr>\n      <th>43</th>\n      <td>501.86975</td>\n      <td>505.402241</td>\n      <td>498.337259</td>\n    </tr>\n    <tr>\n      <th>44</th>\n      <td>501.73175</td>\n      <td>505.391756</td>\n      <td>498.071744</td>\n    </tr>\n    <tr>\n      <th>45</th>\n      <td>501.47025</td>\n      <td>505.392639</td>\n      <td>497.547861</td>\n    </tr>\n    <tr>\n      <th>46</th>\n      <td>501.07875</td>\n      <td>504.774825</td>\n      <td>497.382675</td>\n    </tr>\n    <tr>\n      <th>47</th>\n      <td>500.92150</td>\n      <td>504.717917</td>\n      <td>497.125083</td>\n    </tr>\n    <tr>\n      <th>48</th>\n      <td>500.50925</td>\n      <td>503.522471</td>\n      <td>497.496029</td>\n    </tr>\n    <tr>\n      <th>49</th>\n      <td>500.25325</td>\n      <td>503.111694</td>\n      <td>497.394806</td>\n    </tr>\n    <tr>\n      <th>50</th>\n      <td>500.06250</td>\n      <td>503.143290</td>\n      <td>496.981710</td>\n    </tr>\n    <tr>\n      <th>51</th>\n      <td>499.88225</td>\n      <td>503.085772</td>\n      <td>496.678728</td>\n    </tr>\n  </tbody>\n</table>\n</div>"
     },
     "metadata": {},
     "execution_count": 47
    }
   ],
   "source": [
    "from btalib import bbands\n",
    "\n",
    "bbands(nflx_df).df"
   ]
  },
  {
   "source": [
    "# How can I fire an order through ib_insync"
   ],
   "cell_type": "markdown",
   "metadata": {}
  },
  {
   "cell_type": "code",
   "execution_count": 48,
   "metadata": {},
   "outputs": [],
   "source": [
    "nflx_order = MarketOrder('BUY', 200)"
   ]
  },
  {
   "cell_type": "code",
   "execution_count": 51,
   "metadata": {},
   "outputs": [],
   "source": [
    "trade = ib.placeOrder(nflx_contract, nflx_order)"
   ]
  },
  {
   "cell_type": "code",
   "execution_count": 52,
   "metadata": {},
   "outputs": [
    {
     "output_type": "execute_result",
     "data": {
      "text/plain": [
       "[TradeLogEntry(time=datetime.datetime(2020, 12, 4, 10, 59, 37, 23907, tzinfo=datetime.timezone.utc), status='PendingSubmit', message=''),\n",
       " TradeLogEntry(time=datetime.datetime(2020, 12, 4, 10, 59, 38, 589015, tzinfo=datetime.timezone.utc), status='PreSubmitted', message='')]"
      ]
     },
     "metadata": {},
     "execution_count": 52
    }
   ],
   "source": [
    "trade.log"
   ]
  },
  {
   "cell_type": "code",
   "execution_count": 71,
   "metadata": {},
   "outputs": [
    {
     "output_type": "execute_result",
     "data": {
      "text/plain": [
       "'Filled'"
      ]
     },
     "metadata": {},
     "execution_count": 71
    }
   ],
   "source": [
    "trade.orderStatus.status"
   ]
  },
  {
   "cell_type": "code",
   "execution_count": null,
   "metadata": {},
   "outputs": [],
   "source": [
    "for _ in range(100):\n",
    "    if not trade.isActive():\n",
    "        print(f'Your order status - {trade.orderStatus.status}')\n",
    "        break\n",
    "    time.sleep(0.5)\n",
    "else:\n",
    "    print('Order is still active')"
   ]
  },
  {
   "source": [
    "# How to create a callback function for order status updates"
   ],
   "cell_type": "markdown",
   "metadata": {}
  },
  {
   "cell_type": "code",
   "execution_count": null,
   "metadata": {},
   "outputs": [],
   "source": [
    "def order_status(trade):\n",
    "    if trade.orderStatus.status == 'Filled':\n",
    "        fill = trade.fills[-1]\n",
    "        \n",
    "        print(f'{fill.time} - {fill.execution.side} {fill.contract.symbol} {fill.execution.shares} @ {fill.execution.avgPrice}')"
   ]
  },
  {
   "cell_type": "code",
   "execution_count": null,
   "metadata": {},
   "outputs": [],
   "source": [
    "nflx_order = MarketOrder('BUY', 100)\n",
    "trade = ib.placeOrder(nflx_contract, nflx_order)\n",
    "\n",
    "trade.fillEvent += order_status"
   ]
  },
  {
   "source": [
    "# How to attach a take profit and stop loss to orders"
   ],
   "cell_type": "markdown",
   "metadata": {}
  },
  {
   "cell_type": "code",
   "execution_count": 56,
   "metadata": {},
   "outputs": [],
   "source": [
    "eurusd_bracket_order = ib.bracketOrder(\n",
    "    'BUY',\n",
    "    100000,\n",
    "    limitPrice=1.19,\n",
    "    takeProfitPrice=1.20,\n",
    "    stopLossPrice=1.18\n",
    ")\n"
   ]
  },
  {
   "cell_type": "code",
   "execution_count": 57,
   "metadata": {},
   "outputs": [],
   "source": [
    "for ord in eurusd_bracket_order:\n",
    "    ib.placeOrder(eur_usd_contract, ord)"
   ]
  },
  {
   "source": [
    "# How to fire an order for Mastercard when visa hits a certain price"
   ],
   "cell_type": "markdown",
   "metadata": {}
  },
  {
   "cell_type": "code",
   "execution_count": 59,
   "metadata": {},
   "outputs": [
    {
     "output_type": "execute_result",
     "data": {
      "text/plain": [
       "[Stock(conId=49462172, symbol='V', exchange='SMART', primaryExchange='NYSE', currency='USD', localSymbol='V', tradingClass='V')]"
      ]
     },
     "metadata": {},
     "execution_count": 59
    }
   ],
   "source": [
    "visa_contract = Stock('V', 'SMART', 'USD')\n",
    "ib.qualifyContracts(visa_contract)"
   ]
  },
  {
   "cell_type": "code",
   "execution_count": 61,
   "metadata": {},
   "outputs": [],
   "source": [
    "price_condition = PriceCondition(\n",
    "    price=200,\n",
    "    conId=visa_contract.conId,\n",
    "    exch=visa_contract.exchange\n",
    "    )"
   ]
  },
  {
   "cell_type": "code",
   "execution_count": 63,
   "metadata": {},
   "outputs": [
    {
     "output_type": "execute_result",
     "data": {
      "text/plain": [
       "[Stock(conId=38685693, symbol='MA', exchange='SMART', primaryExchange='NYSE', currency='USD', localSymbol='MA', tradingClass='MA')]"
      ]
     },
     "metadata": {},
     "execution_count": 63
    }
   ],
   "source": [
    "ma_contract = Stock('MA', 'SMART', 'USD')\n",
    "ib.qualifyContracts(ma_contract)"
   ]
  },
  {
   "cell_type": "code",
   "execution_count": 64,
   "metadata": {},
   "outputs": [],
   "source": [
    "visa_ma_order = MarketOrder('BUY', 100)"
   ]
  },
  {
   "cell_type": "code",
   "execution_count": 66,
   "metadata": {},
   "outputs": [],
   "source": [
    "visa_ma_order.conditions.append(price_condition)"
   ]
  },
  {
   "cell_type": "code",
   "execution_count": 67,
   "metadata": {},
   "outputs": [
    {
     "output_type": "execute_result",
     "data": {
      "text/plain": [
       "MarketOrder(action='BUY', totalQuantity=100, conditions=[PriceCondition(condType=1, conjunction='a', isMore=True, price=200, conId=49462172, exch='SMART', triggerMethod=0)])"
      ]
     },
     "metadata": {},
     "execution_count": 67
    }
   ],
   "source": [
    "visa_ma_trade = ib.placeOrder(ma_contract, visa_ma_order)"
   ]
  },
  {
   "source": [
    "# How can I buy call and put options?\n"
   ],
   "cell_type": "markdown",
   "metadata": {}
  },
  {
   "cell_type": "code",
   "execution_count": 68,
   "metadata": {},
   "outputs": [
    {
     "output_type": "execute_result",
     "data": {
      "text/plain": [
       "[Option(conId=438497858, symbol='MSFT', lastTradeDateOrContractMonth='20201218', strike=215.0, right='C', multiplier='100', exchange='SMART', currency='USD', localSymbol='MSFT  201218C00215000', tradingClass='MSFT')]"
      ]
     },
     "metadata": {},
     "execution_count": 68
    }
   ],
   "source": [
    "msft_option_contract = Option('MSFT', '20201218', 215, 'C', 'SMART')\n",
    "ib.qualifyContracts(msft_option_contract)"
   ]
  },
  {
   "cell_type": "code",
   "execution_count": 69,
   "metadata": {},
   "outputs": [],
   "source": [
    "msft_option_order = MarketOrder('BUY', 1)"
   ]
  },
  {
   "cell_type": "code",
   "execution_count": 70,
   "metadata": {},
   "outputs": [],
   "source": [
    "msft_option_trade = ib.placeOrder(msft_option_contract, msft_option_order)"
   ]
  },
  {
   "source": [
    "# How to check your net liquidation value"
   ],
   "cell_type": "markdown",
   "metadata": {}
  },
  {
   "cell_type": "code",
   "execution_count": 79,
   "metadata": {},
   "outputs": [
    {
     "output_type": "execute_result",
     "data": {
      "text/plain": [
       "1045620.66"
      ]
     },
     "metadata": {},
     "execution_count": 79
    }
   ],
   "source": [
    "float([i.value for i in ib.accountSummary() if i.tag == 'NetLiquidation'][0])"
   ]
  },
  {
   "source": [
    "set a balance threhold at the start of your script"
   ],
   "cell_type": "markdown",
   "metadata": {}
  },
  {
   "cell_type": "code",
   "execution_count": 83,
   "metadata": {},
   "outputs": [],
   "source": [
    "net_liquidation = float([i.value for i in ib.accountSummary() if i.tag == 'NetLiquidation'][0]) \n",
    "\n",
    "balance_threshold = net_liquidation * 0.80"
   ]
  },
  {
   "source": [
    "periodically check in the trading script if the threshold has exceeded. If so, close all positions and exit"
   ],
   "cell_type": "markdown",
   "metadata": {}
  },
  {
   "cell_type": "code",
   "execution_count": 85,
   "metadata": {},
   "outputs": [],
   "source": [
    "net_liquidation = float([i.value for i in ib.accountSummary() if i.tag == 'NetLiquidation'][0]) \n",
    "if net_liquidation < balance_threshold:\n",
    "    for open_trade in ib.positions():\n",
    "        direction = 'BUY' if open_trade.position < 0 else 'SELL'\n",
    "        order = MarketOrder(direction, abs(open_trade))\n",
    "        ib.placeOrder(open_trade.contract, order)\n",
    "    ib.disconnect()\n",
    "    quit(0)"
   ]
  }
 ]
}